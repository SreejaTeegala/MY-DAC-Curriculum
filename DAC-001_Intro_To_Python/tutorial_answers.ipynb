{
 "cells": [
  {
   "cell_type": "markdown",
   "metadata": {},
   "source": [
    "Question 1"
   ]
  },
  {
   "cell_type": "code",
   "execution_count": 16,
   "metadata": {},
   "outputs": [
    {
     "name": "stdout",
     "output_type": "stream",
     "text": [
      "hello\n",
      "['apple', 'orange', 'banana']\n",
      "['apple', 'orange', 'banana', 'tomato']\n",
      "['orange', 'banana', 'tomato']\n"
     ]
    }
   ],
   "source": [
    "\n",
    "#question 1\n",
    "print(\"hello\")\n",
    "\n",
    "listfruits= [\"apple\",\"orange\",\"banana\"]\n",
    "print(listfruits)\n",
    "listfruits.append(\"tomato\")\n",
    "print(listfruits)\n",
    "listfruits.remove(\"apple\")\n",
    "print(listfruits)"
   ]
  },
  {
   "cell_type": "markdown",
   "metadata": {},
   "source": [
    "Question 2"
   ]
  },
  {
   "cell_type": "code",
   "execution_count": 17,
   "metadata": {},
   "outputs": [
    {
     "name": "stdout",
     "output_type": "stream",
     "text": [
      "('Physics', 'Chemistry', 'English', 'Math', 'Biology')\n",
      "['Physics', 'Chemistry', 'English', 'Math', 'Biology']\n",
      "['Physics', 'Chemistry', 'English', 'Math', 'Biology', 'literature']\n",
      "('Physics', 'Chemistry', 'English', 'Math', 'Biology', 'literature')\n",
      "6\n"
     ]
    }
   ],
   "source": [
    "subjects= (\"Physics\",\"Chemistry\",\"English\",\"Math\",\"Biology\")\n",
    "print(subjects)\n",
    "\n",
    "tuplelist= list(subjects)\n",
    "print(tuplelist)\n",
    "\n",
    "tuplelist.append(\"literature\")\n",
    "print(tuplelist)\n",
    "\n",
    "new_tuple= tuple(tuplelist)\n",
    "print(new_tuple)\n",
    "\n",
    "lenght_of_tuplelist= len(tuplelist)\n",
    "print(lenght_of_tuplelist)"
   ]
  },
  {
   "cell_type": "markdown",
   "metadata": {},
   "source": [
    "Question 3"
   ]
  },
  {
   "cell_type": "code",
   "execution_count": 18,
   "metadata": {},
   "outputs": [
    {
     "name": "stdout",
     "output_type": "stream",
     "text": [
      "[10, 6, 7, 8, 9, 3]\n",
      "[3, 6, 7, 8, 9, 10]\n",
      "[]\n"
     ]
    }
   ],
   "source": [
    "students_id= [10,6,7,8,9,3]\n",
    "print(students_id)\n",
    "\n",
    "sorted_students_id= sorted(students_id)\n",
    "print(sorted_students_id)\n",
    "\n",
    "sorted_students_id.clear()\n",
    "print(sorted_students_id)"
   ]
  },
  {
   "cell_type": "markdown",
   "metadata": {},
   "source": [
    "Question 4"
   ]
  },
  {
   "cell_type": "code",
   "execution_count": 19,
   "metadata": {},
   "outputs": [
    {
     "name": "stdout",
     "output_type": "stream",
     "text": [
      "[15, 12, 9, 6, 3]\n"
     ]
    }
   ],
   "source": [
    "desc_list= list(range(15,0,-3))\n",
    "print(desc_list)"
   ]
  },
  {
   "cell_type": "markdown",
   "metadata": {},
   "source": [
    "Question 5"
   ]
  },
  {
   "cell_type": "code",
   "execution_count": 28,
   "metadata": {},
   "outputs": [
    {
     "name": "stdout",
     "output_type": "stream",
     "text": [
      "[2, 4, 6, 8, 10, 12, 14, 16, 18, 20, 22, 24, 26, 28, 2, 4, 6, 8, 10, 12, 14, 16, 18, 20, 22, 24, 26, 28, 2, 4, 6, 8, 10, 12, 14, 16, 18, 20, 22, 24, 26, 28, 2, 4, 6, 8, 10, 12, 14, 16, 18, 20, 22, 24, 26, 28]\n"
     ]
    }
   ],
   "source": [
    "for i in range(1,15):\n",
    "    asc_list.append(2 * i)\n",
    "print(asc_list)"
   ]
  },
  {
   "cell_type": "markdown",
   "metadata": {},
   "source": [
    "Question 6"
   ]
  },
  {
   "cell_type": "code",
   "execution_count": 29,
   "metadata": {},
   "outputs": [
    {
     "name": "stdout",
     "output_type": "stream",
     "text": [
      "[15, 12, 9, 6, 3, 2, 4, 6, 8, 10, 12, 14, 16, 18, 20, 22, 24, 26, 28, 2, 4, 6, 8, 10, 12, 14, 16, 18, 20, 22, 24, 26, 28, 2, 4, 6, 8, 10, 12, 14, 16, 18, 20, 22, 24, 26, 28, 2, 4, 6, 8, 10, 12, 14, 16, 18, 20, 22, 24, 26, 28]\n",
      "[12, 6, 2, 4, 6, 8, 10, 12, 14, 16, 18, 20, 22, 24, 26, 28, 2, 4, 6, 8, 10, 12, 14, 16, 18, 20, 22, 24, 26, 28, 2, 4, 6, 8, 10, 12, 14, 16, 18, 20, 22, 24, 26, 28, 2, 4, 6, 8, 10, 12, 14, 16, 18, 20, 22, 24, 26, 28]\n",
      "[15, 9, 3]\n"
     ]
    }
   ],
   "source": [
    "combined_list= desc_list + asc_list\n",
    "print(combined_list)\n",
    "\n",
    "even_numbers=[num for num in combined_list if num % 2 == 0]\n",
    "odd_numbers =[num for num in combined_list if num% 2 != 0]\n",
    "print(even_numbers)\n",
    "print(odd_numbers)\n",
    "\n"
   ]
  },
  {
   "cell_type": "markdown",
   "metadata": {},
   "source": [
    "Question 7"
   ]
  },
  {
   "cell_type": "code",
   "execution_count": 22,
   "metadata": {},
   "outputs": [
    {
     "name": "stdout",
     "output_type": "stream",
     "text": [
      "(62.830000000000005, 314.15000000000003)\n"
     ]
    }
   ],
   "source": [
    "def circle(radius):\n",
    "    circumference = 2 * 3.1415 * radius\n",
    "    area = 3.1415 * radius *radius\n",
    "    return circumference, area\n",
    "  \n",
    "result = circle(10)\n",
    "print(result)"
   ]
  },
  {
   "cell_type": "markdown",
   "metadata": {},
   "source": [
    "Question 8"
   ]
  },
  {
   "cell_type": "code",
   "execution_count": 23,
   "metadata": {},
   "outputs": [
    {
     "name": "stdout",
     "output_type": "stream",
     "text": [
      "True\n",
      "False\n"
     ]
    }
   ],
   "source": [
    "def is_palindrome(word):\n",
    "    word = word.lower().replace(\" \", \"\")\n",
    "    return word == word[::-1]\n",
    "\n",
    "print (is_palindrome(\"deified\"))\n",
    "print(is_palindrome(\"name\"))"
   ]
  },
  {
   "cell_type": "markdown",
   "metadata": {},
   "source": [
    "Question 9"
   ]
  },
  {
   "cell_type": "code",
   "execution_count": 24,
   "metadata": {},
   "outputs": [
    {
     "name": "stdout",
     "output_type": "stream",
     "text": [
      "{'Alice': 85, 'Bob': 90, 'Charlie': 78}\n",
      "{'Alice': 85, 'Bob': 90, 'Charlie': 78, 'David': '92'}\n",
      "{'Alice': '88', 'Bob': 90, 'Charlie': 78, 'David': '92'}\n"
     ]
    }
   ],
   "source": [
    "student_grades = {\n",
    "    \"Alice\": 85,\n",
    "    \"Bob\": 90,\n",
    "    \"Charlie\": 78\n",
    "}\n",
    "print(student_grades)\n",
    "\n",
    "student_grades['David']=\"92\"\n",
    "print(student_grades)\n",
    "\n",
    "student_grades['Alice']=\"88\"\n",
    "print(student_grades)"
   ]
  },
  {
   "cell_type": "markdown",
   "metadata": {},
   "source": [
    "Question 10"
   ]
  },
  {
   "cell_type": "code",
   "execution_count": 25,
   "metadata": {},
   "outputs": [
    {
     "name": "stdout",
     "output_type": "stream",
     "text": [
      "{'apple': 3, 'banana': 2, 'orange': 1}\n"
     ]
    }
   ],
   "source": [
    "fruit_list= [\"apple\", \"banana\", \"apple\", \"orange\", \"banana\", \"apple\"]\n",
    "fruit_count={}\n",
    "\n",
    "for fruit in fruit_list:\n",
    "    if fruit in fruit_count:\n",
    "        fruit_count[fruit]   +=1\n",
    "    else:\n",
    "        fruit_count[fruit]= 1\n",
    "\n",
    "print(fruit_count)\n",
    "\n",
    "\n"
   ]
  },
  {
   "cell_type": "code",
   "execution_count": null,
   "metadata": {},
   "outputs": [],
   "source": []
  }
 ],
 "metadata": {
  "kernelspec": {
   "display_name": "Python 3",
   "language": "python",
   "name": "python3"
  },
  "language_info": {
   "codemirror_mode": {
    "name": "ipython",
    "version": 3
   },
   "file_extension": ".py",
   "mimetype": "text/x-python",
   "name": "python",
   "nbconvert_exporter": "python",
   "pygments_lexer": "ipython3",
   "version": "3.9.6"
  }
 },
 "nbformat": 4,
 "nbformat_minor": 2
}
